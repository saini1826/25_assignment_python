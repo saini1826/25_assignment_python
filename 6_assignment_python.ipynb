{
 "cells": [
  {
   "cell_type": "code",
   "execution_count": 3,
   "id": "83347fb8-cab3-44c9-832e-aa48ea038ee7",
   "metadata": {},
   "outputs": [
    {
     "name": "stdin",
     "output_type": "stream",
     "text": [
      "enter the number :  10\n"
     ]
    },
    {
     "name": "stdout",
     "output_type": "stream",
     "text": [
      "fibonacci sequence :\n",
      "0\n",
      "1\n",
      "1\n",
      "2\n",
      "3\n",
      "5\n",
      "8\n",
      "13\n",
      "21\n",
      "34\n"
     ]
    }
   ],
   "source": [
    "def fibonacci(n):\n",
    "    if n<=0:\n",
    "        return 0\n",
    "    elif n==1:\n",
    "        return 1\n",
    "    else:\n",
    "        return fibonacci(n-1) + fibonacci(n-2)\n",
    "\n",
    "term = int(input(\"enter the number : \"))\n",
    "print(\"fibonacci sequence :\")\n",
    "for i in range(term):\n",
    "    print(fibonacci(i))"
   ]
  },
  {
   "cell_type": "code",
   "execution_count": 6,
   "id": "f77e9fbb-3a37-4ecc-b2d2-49bac755d8be",
   "metadata": {},
   "outputs": [
    {
     "name": "stdin",
     "output_type": "stream",
     "text": [
      "Enter a number:  10\n"
     ]
    },
    {
     "name": "stdout",
     "output_type": "stream",
     "text": [
      "Factorial of 10 is 3628800\n"
     ]
    }
   ],
   "source": [
    "def factorial(n):\n",
    "    if n == 0 or n == 1:\n",
    "        return 1\n",
    "    else:\n",
    "        return n * factorial(n - 1)\n",
    "number = int(input(\"Enter a number: \"))\n",
    "if number < 0:\n",
    "    print(\"Factorial is not defined for negative numbers.\")\n",
    "else:\n",
    "    print(f\"Factorial of {number} is {factorial(number)}\")\n"
   ]
  },
  {
   "cell_type": "code",
   "execution_count": null,
   "id": "f5bc49b1-f703-472a-8d2f-6eb7139b3e84",
   "metadata": {},
   "outputs": [],
   "source": [
    "import math\n",
    "\n",
    "def calculate_natural_log():\n",
    "    try:\n",
    "        number = float(input(\"Enter a positive number: \"))\n",
    "        if number <= 0:\n",
    "            print(\"Error: Natural logarithm is only defined for positive numbers.\")\n",
    "        else:\n",
    "            result = math.log(number)\n",
    "            print(f\"The natural logarithm of {number} is {result:.4f}\")\n",
    "    except ValueError:\n",
    "        print(\"Invalid input. Please enter a numeric value.\")\n",
    "\n",
    "calculate_natural_log()"
   ]
  },
  {
   "cell_type": "code",
   "execution_count": 1,
   "id": "4f036d82-f323-4ebf-9146-d83d6d9aa460",
   "metadata": {},
   "outputs": [
    {
     "name": "stdin",
     "output_type": "stream",
     "text": [
      "Enter a positive integer:  12\n"
     ]
    },
    {
     "name": "stdout",
     "output_type": "stream",
     "text": [
      "The sum of cubes of the first 12 natural numbers is: 6084\n"
     ]
    }
   ],
   "source": [
    "def cube_sum(n):\n",
    "    sum_of_cubes = ((n * (n + 1)) // 2) ** 2\n",
    "    return sum_of_cubes\n",
    "\n",
    "try:\n",
    "    n = int(input(\"Enter a positive integer: \"))\n",
    "    if n <= 0:\n",
    "        print(\"Please enter a number greater than 0.\")\n",
    "    else:\n",
    "        result = cube_sum(n)\n",
    "        print(f\"The sum of cubes of the first {n} natural numbers is: {result}\")\n",
    "except ValueError:\n",
    "    print(\"Invalid input. Please enter a valid integer.\")"
   ]
  },
  {
   "cell_type": "code",
   "execution_count": 2,
   "id": "1fd4d3a8-6b7b-4268-a491-de00fa8095cc",
   "metadata": {},
   "outputs": [
    {
     "name": "stdin",
     "output_type": "stream",
     "text": [
      "Enter your weight in kilograms (kg):  55\n",
      "Enter your height in meters (m):  170\n"
     ]
    },
    {
     "name": "stdout",
     "output_type": "stream",
     "text": [
      "\n",
      "Your BMI is: 0.00\n",
      "Category: Underweight\n"
     ]
    }
   ],
   "source": [
    "def calculate_bmi():\n",
    "    try:\n",
    "        weight = float(input(\"Enter your weight in kilograms (kg): \"))\n",
    "        height = float(input(\"Enter your height in meters (m): \"))\n",
    "\n",
    "        if weight <= 0 or height <= 0:\n",
    "            print(\"Weight and height must be positive numbers.\")\n",
    "            return\n",
    "\n",
    "        bmi = weight / (height ** 2)\n",
    "        print(f\"\\nYour BMI is: {bmi:.2f}\")\n",
    "\n",
    "        # BMI classification\n",
    "        if bmi < 18.5:\n",
    "            print(\"Category: Underweight\")\n",
    "        elif 18.5 <= bmi < 24.9:\n",
    "            print(\"Category: Normal weight\")\n",
    "        elif 25 <= bmi < 29.9:\n",
    "            print(\"Category: Overweight\")\n",
    "        else:\n",
    "            print(\"Category: Obese\")\n",
    "\n",
    "    except ValueError:\n",
    "        print(\"Invalid input. Please enter numeric values for weight and height.\")\n",
    "\n",
    "# Run the function\n",
    "calculate_bmi()"
   ]
  },
  {
   "cell_type": "code",
   "execution_count": null,
   "id": "e00404fd-b5cd-4e8c-ba9a-b0ff25c2ae2f",
   "metadata": {},
   "outputs": [],
   "source": []
  }
 ],
 "metadata": {
  "kernelspec": {
   "display_name": "Python [conda env:base] *",
   "language": "python",
   "name": "conda-base-py"
  },
  "language_info": {
   "codemirror_mode": {
    "name": "ipython",
    "version": 3
   },
   "file_extension": ".py",
   "mimetype": "text/x-python",
   "name": "python",
   "nbconvert_exporter": "python",
   "pygments_lexer": "ipython3",
   "version": "3.12.7"
  }
 },
 "nbformat": 4,
 "nbformat_minor": 5
}
