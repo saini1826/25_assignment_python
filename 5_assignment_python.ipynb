{
 "cells": [
  {
   "cell_type": "code",
   "execution_count": 3,
   "id": "c6899b91-961b-40fe-a17a-eca69241a570",
   "metadata": {},
   "outputs": [
    {
     "name": "stdin",
     "output_type": "stream",
     "text": [
      "enter nmber : 12\n",
      "enter number : 24\n"
     ]
    },
    {
     "name": "stdout",
     "output_type": "stream",
     "text": [
      "lcm  is  24\n"
     ]
    }
   ],
   "source": [
    "import math\n",
    "\n",
    "num1 = int(input(\"enter nmber :\"))\n",
    "num2 = int(input(\"enter number :\"))\n",
    "\n",
    "lcm = math.lcm(num1,num2)\n",
    "print(\"lcm  is \" ,lcm)"
   ]
  },
  {
   "cell_type": "code",
   "execution_count": 8,
   "id": "0873cb61-2803-40ca-8c3a-d7ef9090c11a",
   "metadata": {},
   "outputs": [
    {
     "name": "stdin",
     "output_type": "stream",
     "text": [
      "enter nmber : 15\n",
      "enter number : 5\n"
     ]
    },
    {
     "name": "stdout",
     "output_type": "stream",
     "text": [
      "hcf is  5\n"
     ]
    }
   ],
   "source": [
    "import math\n",
    "\n",
    "num1 = int(input(\"enter nmber :\"))\n",
    "num2 = int(input(\"enter number :\"))\n",
    "\n",
    "hcf = math.gcd(num1,num2)\n",
    "print(\"hcf is \" ,hcf)"
   ]
  },
  {
   "cell_type": "code",
   "execution_count": 9,
   "id": "80ff8b3f-3cb2-4440-b985-95ef530644ba",
   "metadata": {},
   "outputs": [
    {
     "name": "stdin",
     "output_type": "stream",
     "text": [
      "enter the decimal value : 23\n"
     ]
    },
    {
     "name": "stdout",
     "output_type": "stream",
     "text": [
      "decimal value is  23\n",
      "binary  : 0b10111\n",
      "octal  : 0o27\n",
      "hexadecimal  : 0x17\n"
     ]
    }
   ],
   "source": [
    "decimal = int(input(\"enter the decimal value :\"))\n",
    "\n",
    "print(\"decimal value is \" , decimal)\n",
    "print(\"binary  :\" ,bin(decimal))\n",
    "print(\"octal  :\" ,oct(decimal))\n",
    "print(\"hexadecimal  :\" ,hex(decimal))\n"
   ]
  },
  {
   "cell_type": "code",
   "execution_count": 12,
   "id": "65c30b15-f922-4fb1-ad0d-5ab388f899f1",
   "metadata": {},
   "outputs": [
    {
     "name": "stdin",
     "output_type": "stream",
     "text": [
      "enter a char. A\n"
     ]
    },
    {
     "name": "stdout",
     "output_type": "stream",
     "text": [
      "the ascii is  65\n"
     ]
    }
   ],
   "source": [
    "ch = input(\"enter a char.\")\n",
    "\n",
    "asii_value = ord(ch)\n",
    "\n",
    "print(\"the ascii is \" ,asii_value)"
   ]
  },
  {
   "cell_type": "code",
   "execution_count": null,
   "id": "4d713109-6e3a-4d23-9239-3af7a96a73e4",
   "metadata": {},
   "outputs": [
    {
     "name": "stdout",
     "output_type": "stream",
     "text": [
      "selsect oprator :\n",
      "1 . addition\n",
      "2 . subtraction\n",
      "3 . multiplication\n",
      "4 . division\n"
     ]
    },
    {
     "name": "stdin",
     "output_type": "stream",
     "text": [
      "enter choice (1/2/3/4) : 3\n"
     ]
    }
   ],
   "source": [
    "def add (x,y):\n",
    "    return x+y\n",
    "def subtract(x,y):\n",
    "    return x-y\n",
    "def multiply(x,y):\n",
    "    return (x*y)\n",
    "def divide(x,y):\n",
    "    if y != 0:\n",
    "        return x/y\n",
    "    else:\n",
    "        return \"error division by zero\"\n",
    "\n",
    "print(\"selsect oprator :\")\n",
    "print(\"1 . addition\")\n",
    "print(\"2 . subtraction\")\n",
    "print(\"3 . multiplication\")\n",
    "print(\"4 . division\")\n",
    "\n",
    "choice = input(\"enter choice (1/2/3/4) :\")\n",
    "\n",
    "num1 = int(input(\" first number :\"))\n",
    "num2 = int(input(\"second number :\"))\n",
    "\n",
    "if choice == \"1\":\n",
    "    print(\"result :\",add (num1,num2))\n",
    "elif choice == \"2\":\n",
    "    print(\"result :\",subtraction(num1,num2))\n",
    "elif choice == \"3\":\n",
    "    print(\"result :\",multiply(num1,num2))\n",
    "elif choice == \"4\":\n",
    "    print(\"result :\",divide(num1,num2))\n",
    "else:\n",
    "    print(\"invalid input\")"
   ]
  },
  {
   "cell_type": "code",
   "execution_count": null,
   "id": "deb3d799-5345-499a-8455-494b77b230b3",
   "metadata": {},
   "outputs": [],
   "source": []
  }
 ],
 "metadata": {
  "kernelspec": {
   "display_name": "Python [conda env:base] *",
   "language": "python",
   "name": "conda-base-py"
  },
  "language_info": {
   "codemirror_mode": {
    "name": "ipython",
    "version": 3
   },
   "file_extension": ".py",
   "mimetype": "text/x-python",
   "name": "python",
   "nbconvert_exporter": "python",
   "pygments_lexer": "ipython3",
   "version": "3.12.7"
  }
 },
 "nbformat": 4,
 "nbformat_minor": 5
}
