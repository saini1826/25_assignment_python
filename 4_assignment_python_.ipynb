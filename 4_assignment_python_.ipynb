{
 "cells": [
  {
   "cell_type": "code",
   "execution_count": 1,
   "id": "4aa4ef0b-2558-4dca-b5be-3028cba33381",
   "metadata": {},
   "outputs": [
    {
     "name": "stdin",
     "output_type": "stream",
     "text": [
      "enter the number : 5\n"
     ]
    },
    {
     "name": "stdout",
     "output_type": "stream",
     "text": [
      "factorial number is 120\n"
     ]
    }
   ],
   "source": [
    "n = int(input(\"enter the number :\"))\n",
    "\n",
    "product = 1\n",
    "\n",
    "for i in range(1,n+1):\n",
    "    product = product*i\n",
    "\n",
    "print(f\"factorial number is {product}\")"
   ]
  },
  {
   "cell_type": "code",
   "execution_count": 4,
   "id": "92774177-1f22-4e3e-8d7e-0aadd07a4950",
   "metadata": {},
   "outputs": [
    {
     "name": "stdin",
     "output_type": "stream",
     "text": [
      "enter the value : 12\n"
     ]
    },
    {
     "name": "stdout",
     "output_type": "stream",
     "text": [
      "12 x 1  =  12\n",
      "12 x 2  =  24\n",
      "12 x 3  =  36\n",
      "12 x 4  =  48\n",
      "12 x 5  =  60\n",
      "12 x 6  =  72\n",
      "12 x 7  =  84\n",
      "12 x 8  =  96\n",
      "12 x 9  =  108\n",
      "12 x 10  =  120\n"
     ]
    }
   ],
   "source": [
    "n = int(input(\"enter the value :\"))\n",
    "\n",
    "for i in range(1,11):\n",
    "    print(f\"{n} x {i}  =  {n*i}\")"
   ]
  },
  {
   "cell_type": "code",
   "execution_count": 5,
   "id": "607b4a9b-257e-445e-9287-a4d21df03089",
   "metadata": {},
   "outputs": [
    {
     "name": "stdin",
     "output_type": "stream",
     "text": [
      "enter the number : 10\n"
     ]
    },
    {
     "name": "stdout",
     "output_type": "stream",
     "text": [
      "\n",
      " fibonacci sequence :\n",
      "0\n",
      "1\n",
      "1\n",
      "2\n",
      "3\n",
      "5\n",
      "8\n",
      "13\n",
      "21\n",
      "34\n"
     ]
    }
   ],
   "source": [
    "n = int(input(\"enter the number :\"))\n",
    "\n",
    "a,b = 0,1\n",
    "\n",
    "print(\"\\n fibonacci sequence :\")\n",
    "\n",
    "for i in range(n):\n",
    "    print(a)\n",
    "    a,b = b,a+b"
   ]
  },
  {
   "cell_type": "code",
   "execution_count": 9,
   "id": "e02695de-87d8-4638-8069-26bed5bf4271",
   "metadata": {},
   "outputs": [
    {
     "name": "stdin",
     "output_type": "stream",
     "text": [
      "enter the number : 123\n"
     ]
    },
    {
     "name": "stdout",
     "output_type": "stream",
     "text": [
      "123 is not an armstrong number \n"
     ]
    }
   ],
   "source": [
    "num = int(input(\"enter the number :\"))\n",
    "order = len(str(num))\n",
    "\n",
    "sum = 0\n",
    "temp = num\n",
    "while temp >0:\n",
    "    digit = temp%10\n",
    "    sum += digit ** order\n",
    "    temp //=10\n",
    "\n",
    "if num == sum:\n",
    "    print(f\"{num} is an armstrong number \")\n",
    "else:\n",
    "    print(f\"{num} is not an armstrong number \")"
   ]
  },
  {
   "cell_type": "code",
   "execution_count": 11,
   "id": "f22a8449-d439-4466-a7fa-1e192999482d",
   "metadata": {},
   "outputs": [
    {
     "name": "stdin",
     "output_type": "stream",
     "text": [
      "enter the  positive number : 50\n"
     ]
    },
    {
     "name": "stdout",
     "output_type": "stream",
     "text": [
      "sum of natural number 55\n"
     ]
    }
   ],
   "source": [
    "num = int(input(\"enter the  positive number :\"))\n",
    "\n",
    "if n<0:\n",
    "    print(\"please enter a positive number \")\n",
    "else:\n",
    "    total = n*(n+1)//2\n",
    "    print(f\"sum of natural number {total}\")"
   ]
  },
  {
   "cell_type": "code",
   "execution_count": null,
   "id": "4e584ef9-6dd2-43bc-a8a0-43a5742d4b34",
   "metadata": {},
   "outputs": [],
   "source": []
  }
 ],
 "metadata": {
  "kernelspec": {
   "display_name": "Python [conda env:base] *",
   "language": "python",
   "name": "conda-base-py"
  },
  "language_info": {
   "codemirror_mode": {
    "name": "ipython",
    "version": 3
   },
   "file_extension": ".py",
   "mimetype": "text/x-python",
   "name": "python",
   "nbconvert_exporter": "python",
   "pygments_lexer": "ipython3",
   "version": "3.12.7"
  }
 },
 "nbformat": 4,
 "nbformat_minor": 5
}
