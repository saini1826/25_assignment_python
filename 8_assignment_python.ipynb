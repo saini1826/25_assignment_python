{
 "cells": [
  {
   "cell_type": "code",
   "execution_count": 1,
   "id": "eac2d44e-5e4c-4fb2-a57b-6fa1aec3146f",
   "metadata": {},
   "outputs": [],
   "source": [
    "a = [[1,2,3],\n",
    "     [4,5,6],\n",
    "     [7,8,9]]\n",
    "\n",
    "b = [[9,8,7],\n",
    "     [6,5,4],\n",
    "     [3,2,1]]"
   ]
  },
  {
   "cell_type": "code",
   "execution_count": 2,
   "id": "18b894a2-b9a5-489b-9b88-18be82a5e228",
   "metadata": {},
   "outputs": [
    {
     "name": "stdout",
     "output_type": "stream",
     "text": [
      "result matrices addition :\n",
      "[10, 10, 10]\n",
      "[10, 10, 10]\n",
      "[10, 10, 10]\n"
     ]
    }
   ],
   "source": [
    "result = [[0,0,0],\n",
    "          [0,0,0],\n",
    "          [0,0,0]]\n",
    "\n",
    "for i in range(len(a)):\n",
    "    for j in range(len(a[0])):\n",
    "        result[i][j] = a[i][j] + b[i][j]\n",
    "\n",
    "print(\"result matrices addition :\")\n",
    "for r in result:\n",
    "    print(r)"
   ]
  },
  {
   "cell_type": "code",
   "execution_count": 3,
   "id": "af67032e-c968-4243-8909-2f01d32493f3",
   "metadata": {},
   "outputs": [],
   "source": [
    "a = [[1,2,3],\n",
    "     [4,5,6],\n",
    "     [7,8,9]]\n",
    "\n",
    "b = [[9,8,7],\n",
    "     [6,5,4],\n",
    "     [3,2,1]]"
   ]
  },
  {
   "cell_type": "code",
   "execution_count": 5,
   "id": "3f046710-3323-4d77-a617-93b7511a4a10",
   "metadata": {},
   "outputs": [
    {
     "name": "stdout",
     "output_type": "stream",
     "text": [
      "matrix after multiplication :\n",
      "[27, 48, 63]\n",
      "[72, 75, 72]\n",
      "[63, 48, 27]\n"
     ]
    }
   ],
   "source": [
    "result = [[0 for _ in range(len(b[0]))] for _ in range(len(a)) ]\n",
    "\n",
    "for i in range(len(a)):\n",
    "    for j in range(len(b[0])):\n",
    "        for k in range(len(b)):\n",
    "            result [i][j] += a[i][j]*b[i][j]\n",
    "\n",
    "print(\"matrix after multiplication :\")\n",
    "for r in result:\n",
    "    print(r)"
   ]
  },
  {
   "cell_type": "code",
   "execution_count": 6,
   "id": "54cbb265-ca31-47b3-9cbb-de0a206d2d4c",
   "metadata": {},
   "outputs": [
    {
     "name": "stdin",
     "output_type": "stream",
     "text": [
      "enter a sentence python is a powerful and easy language\n"
     ]
    },
    {
     "name": "stdout",
     "output_type": "stream",
     "text": [
      "alphabetic order :\n",
      "a\n",
      "and\n",
      "easy\n",
      "is\n",
      "language\n",
      "powerful\n",
      "python\n"
     ]
    }
   ],
   "source": [
    "sen = input(\"enter a sentence :\")\n",
    "\n",
    "words = sen.split()\n",
    "words.sort()\n",
    "\n",
    "print(\"alphabetic order :\")\n",
    "for i in words:\n",
    "    print(i)"
   ]
  },
  {
   "cell_type": "code",
   "execution_count": null,
   "id": "ce7faf2a-3198-4b3f-9504-e874cbce0d95",
   "metadata": {},
   "outputs": [],
   "source": [
    "import string\n",
    "\n",
    "word = input(\"enter a string :\")\n",
    "\n",
    "no_punct = \"\"\n",
    "\n",
    "for i in word:\n",
    "    if i not in string.punctuation:\n",
    "        no_punct += i\n",
    "print(\"string without punctuation :\")\n",
    "print(no_punct)"
   ]
  },
  {
   "cell_type": "code",
   "execution_count": null,
   "id": "ca2cc0f2-68ff-4362-9e06-c05d4cb7a774",
   "metadata": {},
   "outputs": [],
   "source": []
  }
 ],
 "metadata": {
  "kernelspec": {
   "display_name": "Python [conda env:base] *",
   "language": "python",
   "name": "conda-base-py"
  },
  "language_info": {
   "codemirror_mode": {
    "name": "ipython",
    "version": 3
   },
   "file_extension": ".py",
   "mimetype": "text/x-python",
   "name": "python",
   "nbconvert_exporter": "python",
   "pygments_lexer": "ipython3",
   "version": "3.12.7"
  }
 },
 "nbformat": 4,
 "nbformat_minor": 5
}
