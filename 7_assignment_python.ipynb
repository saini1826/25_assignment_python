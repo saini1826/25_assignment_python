{
 "cells": [
  {
   "cell_type": "code",
   "execution_count": 3,
   "id": "8c6eff51-2562-4093-9306-283ea32d6270",
   "metadata": {},
   "outputs": [
    {
     "name": "stdout",
     "output_type": "stream",
     "text": [
      "array [1, 2, 3, 4, 5, 6]\n",
      "sum of array : 21\n"
     ]
    }
   ],
   "source": [
    "def array_sum(arr):\n",
    "    total = 0\n",
    "    for i in arr:\n",
    "        total += i\n",
    "    return total\n",
    "\n",
    "arr = [1,2,3,4,5,6]\n",
    "print(\"array\",arr)\n",
    "print(\"sum of array :\",array_sum(arr))"
   ]
  },
  {
   "cell_type": "code",
   "execution_count": 5,
   "id": "a2b01f96-565b-4fa7-809f-7c6057a854df",
   "metadata": {},
   "outputs": [
    {
     "name": "stdout",
     "output_type": "stream",
     "text": [
      "array [1, 2, 3, 4, 5, 6]\n",
      "largest_number : 6\n"
     ]
    }
   ],
   "source": [
    "def find_largest(arr):\n",
    "    largest = 0\n",
    "    for i in arr:\n",
    "        if i > largest:\n",
    "            largest = i\n",
    "    return largest\n",
    "\n",
    "print(\"array\" ,arr)\n",
    "print(\"largest_number :\",find_largest(arr))"
   ]
  },
  {
   "cell_type": "code",
   "execution_count": 8,
   "id": "1cc5cb40-70cc-418a-ab12-bda0578803af",
   "metadata": {},
   "outputs": [
    {
     "name": "stdout",
     "output_type": "stream",
     "text": [
      "orignal array [1, 2, 3, 4, 5]\n",
      "right rotation by2 : [4, 5, 1, 2, 3]\n"
     ]
    }
   ],
   "source": [
    "def right_rotate(arr,d):\n",
    "    n = len(arr)\n",
    "    d = d %n\n",
    "    return arr[-d:] + arr[:-d]\n",
    "\n",
    "arr = [1,2,3,4,5]\n",
    "d= 2\n",
    "print(\"orignal array\" , arr)\n",
    "print(f\"right rotation by{d} :\" ,right_rotate(arr,d))"
   ]
  },
  {
   "cell_type": "code",
   "execution_count": 3,
   "id": "d0c944cd-8c4a-4ba3-b468-de40f4d5156e",
   "metadata": {},
   "outputs": [
    {
     "name": "stdout",
     "output_type": "stream",
     "text": [
      "Rearranged array: [3, 4, 5, 6, 7, 1, 2]\n"
     ]
    }
   ],
   "source": [
    "def split_and_rearrange(arr, split_index):\n",
    "    if split_index < 0 or split_index > len(arr):\n",
    "        return \"Invalid split index\"\n",
    "\n",
    "    first_part = arr[:split_index]\n",
    "    second_part = arr[split_index:]\n",
    "    result = second_part + first_part\n",
    "    return result \n",
    "    \n",
    "array = [1, 2, 3, 4, 5, 6, 7]\n",
    "index = 2  \n",
    "new_array = split_and_rearrange(array, index)\n",
    "print(\"Rearranged array:\", new_array)"
   ]
  },
  {
   "cell_type": "code",
   "execution_count": null,
   "id": "fad9acda-581a-4863-94b3-5e2f97f58f77",
   "metadata": {},
   "outputs": [],
   "source": []
  }
 ],
 "metadata": {
  "kernelspec": {
   "display_name": "Python [conda env:base] *",
   "language": "python",
   "name": "conda-base-py"
  },
  "language_info": {
   "codemirror_mode": {
    "name": "ipython",
    "version": 3
   },
   "file_extension": ".py",
   "mimetype": "text/x-python",
   "name": "python",
   "nbconvert_exporter": "python",
   "pygments_lexer": "ipython3",
   "version": "3.12.7"
  }
 },
 "nbformat": 4,
 "nbformat_minor": 5
}
