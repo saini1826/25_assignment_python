{
 "cells": [
  {
   "cell_type": "code",
   "execution_count": 1,
   "id": "25192b24-1ffe-4d4d-9fb0-a9348cf6aa5d",
   "metadata": {},
   "outputs": [
    {
     "name": "stdout",
     "output_type": "stream",
     "text": [
      "Hello python\n"
     ]
    }
   ],
   "source": [
    "string = \"Hello python\"\n",
    "\n",
    "print(string)"
   ]
  },
  {
   "cell_type": "code",
   "execution_count": 4,
   "id": "ce352f02-0e36-46a3-99e5-f18e4ca795b4",
   "metadata": {},
   "outputs": [
    {
     "name": "stdin",
     "output_type": "stream",
     "text": [
      "enter your number : 21\n",
      "enter your number : 23\n"
     ]
    },
    {
     "name": "stdout",
     "output_type": "stream",
     "text": [
      "44\n"
     ]
    }
   ],
   "source": [
    "value1 = int(input(\"enter your number :\"))\n",
    "value2 = int(input(\"enter your number :\"))\n",
    "\n",
    "add = value1+value2\n",
    "\n",
    "print(add)"
   ]
  },
  {
   "cell_type": "code",
   "execution_count": 15,
   "id": "4fb7fd2f-0a56-4b9d-8b93-509783cbb291",
   "metadata": {},
   "outputs": [
    {
     "name": "stdin",
     "output_type": "stream",
     "text": [
      "enter your number : 15\n",
      "enter your number : 5\n"
     ]
    },
    {
     "name": "stdout",
     "output_type": "stream",
     "text": [
      "3\n"
     ]
    }
   ],
   "source": [
    "value1 = int(input(\"enter your number :\"))\n",
    "value2 = int(input(\"enter your number :\"))\n",
    "\n",
    "if value2 != 0:\n",
    "    division = value1 // value2\n",
    "    print(division)\n",
    "    \n",
    "\n"
   ]
  },
  {
   "cell_type": "code",
   "execution_count": 18,
   "id": "35029e28-4009-41c6-958f-d09428117499",
   "metadata": {},
   "outputs": [
    {
     "name": "stdin",
     "output_type": "stream",
     "text": [
      "enter the number : 4\n",
      "enter the number : 6\n"
     ]
    },
    {
     "name": "stdout",
     "output_type": "stream",
     "text": [
      "area of triangle 12.0\n"
     ]
    }
   ],
   "source": [
    "base = int(input(\"enter the number :\"))\n",
    "height = int(input(\"enter the number :\"))\n",
    "\n",
    "area = 1/2 *base*height\n",
    "\n",
    "print(\"area of triangle\" , area)"
   ]
  }
 ],
 "metadata": {
  "kernelspec": {
   "display_name": "Python [conda env:base] *",
   "language": "python",
   "name": "conda-base-py"
  },
  "language_info": {
   "codemirror_mode": {
    "name": "ipython",
    "version": 3
   },
   "file_extension": ".py",
   "mimetype": "text/x-python",
   "name": "python",
   "nbconvert_exporter": "python",
   "pygments_lexer": "ipython3",
   "version": "3.12.7"
  }
 },
 "nbformat": 4,
 "nbformat_minor": 5
}
